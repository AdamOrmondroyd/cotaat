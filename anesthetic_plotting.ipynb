{
 "cells": [
  {
   "cell_type": "code",
   "execution_count": 2,
   "metadata": {},
   "outputs": [],
   "source": [
    "from cobaya.model import get_model\n",
    "from cobaya.yaml import yaml_load"
   ]
  },
  {
   "cell_type": "code",
   "execution_count": 13,
   "metadata": {},
   "outputs": [
    {
     "name": "stdout",
     "output_type": "stream",
     "text": [
      "[model] *WARNING* Ignored blocks/options: ['sampler']\n",
      "[prior] *WARNING* External prior 'SZ' loaded. Mind that it might not be normalized!\n",
      "[CAMB] Importing *auto-installed* CAMB (but defaulting to *global*).\n",
      "[camb] Initialized!\n",
      "[clik] Importing *auto-installed* clik (but defaulting to *global*).\n",
      "----\n",
      "clik version plc_3.1\n",
      "  gibbs_gauss b13c8fda-1837-41b5-ae2d-78d6b723fcf1\n",
      "[planck_2018_lowl.tt] Initialized!\n",
      "Checking likelihood '/rds-d7/user/ano23/hpc-work/cotaat/packages/data/planck_2018/baseline/plc_3.0/low_l/commander/commander_dx12_v3_2_29.clik' on test data. got -11.6257 expected -11.6257 (diff -1.07424e-09)\n",
      "----\n",
      "[clik] Importing *auto-installed* clik (but defaulting to *global*).\n",
      "Initializing SimAll\n",
      "[planck_2018_lowl.ee] Initialized!\n",
      "----\n",
      "clik version plc_3.1\n",
      "  simall simall_EE_BB_TE\n",
      "Checking likelihood '/rds-d7/user/ano23/hpc-work/cotaat/packages/data/planck_2018/baseline/plc_3.0/low_l/simall/simall_100x143_offlike5_EE_Aplanck_B.clik' on test data. got -197.99 expected -197.99 (diff -4.1778e-08)\n",
      "----\n",
      "[clik] Importing *auto-installed* clik (but defaulting to *global*).\n",
      "----\n",
      "clik version plc_3.1\n",
      "  smica\n",
      "[planck_2018_highl_plik.ttteee] Initialized!\n",
      "Checking likelihood '/rds-d7/user/ano23/hpc-work/cotaat/packages/data/planck_2018/baseline/plc_3.0/hi_l/plik/plik_rd12_HM_v22b_TTTEEE.clik' on test data. got -1172.47 expected -1172.47 (diff -4.34055e-07)\n",
      "----\n",
      "[clik] Importing *auto-installed* clik (but defaulting to *global*).\n",
      "Checking lensing likelihood '/rds-d7/user/ano23/hpc-work/cotaat/packages/data/planck_2018/baseline/plc_3.0/lensing/smicadx12_Dec5_ftl_mv2_ndclpp_p_teb_consext8.clik_lensing' on test data. got -4.42102\n",
      "[planck_2018_lensing.clik] Initialized!\n",
      "[model] *WARNING* Ignored blocks/options: ['sampler']\n",
      "[prior] *WARNING* External prior 'SZ' loaded. Mind that it might not be normalized!\n",
      "[CAMB] Importing *auto-installed* CAMB (but defaulting to *global*).\n",
      "[camb] Initialized!\n",
      "[clik] Importing *auto-installed* clik (but defaulting to *global*).\n",
      "----\n",
      "clik version plc_3.1\n",
      "  gibbs_gauss b13c8fda-1837-41b5-ae2d-78d6b723fcf1\n",
      "[planck_2018_lowl.tt] Initialized!\n",
      "Checking likelihood '/rds-d7/user/ano23/hpc-work/cotaat/packages/data/planck_2018/baseline/plc_3.0/low_l/commander/commander_dx12_v3_2_29.clik' on test data. got -11.6257 expected -11.6257 (diff -1.07424e-09)\n",
      "----\n",
      "[clik] Importing *auto-installed* clik (but defaulting to *global*).\n",
      "Initializing SimAll\n",
      "[planck_2018_lowl.ee] Initialized!\n",
      "----\n",
      "clik version plc_3.1\n",
      "  simall simall_EE_BB_TE\n",
      "Checking likelihood '/rds-d7/user/ano23/hpc-work/cotaat/packages/data/planck_2018/baseline/plc_3.0/low_l/simall/simall_100x143_offlike5_EE_Aplanck_B.clik' on test data. got -197.99 expected -197.99 (diff -4.1778e-08)\n",
      "----\n",
      "[clik] Importing *auto-installed* clik (but defaulting to *global*).\n",
      "----\n",
      "clik version plc_3.1\n",
      "  smica\n",
      "[planck_2018_highl_plik.ttteee] Initialized!\n",
      "Checking likelihood '/rds-d7/user/ano23/hpc-work/cotaat/packages/data/planck_2018/baseline/plc_3.0/hi_l/plik/plik_rd12_HM_v22b_TTTEEE.clik' on test data. got -1172.47 expected -1172.47 (diff -4.34055e-07)\n",
      "----\n",
      "[clik] Importing *auto-installed* clik (but defaulting to *global*).\n",
      "Checking lensing likelihood '/rds-d7/user/ano23/hpc-work/cotaat/packages/data/planck_2018/baseline/plc_3.0/lensing/smicadx12_Dec5_ftl_mv2_ndclpp_p_teb_consext8.clik_lensing' on test data. got -4.42102\n",
      "[planck_2018_lensing.clik] Initialized!\n"
     ]
    }
   ],
   "source": [
    "with open(\"camb_mcmc.yaml\") as f:\n",
    "    mcmc = get_model(yaml_load(f))\n",
    "with open(\"change_plumbing.yaml\") as f:\n",
    "    plumb = get_model(yaml_load(f))"
   ]
  },
  {
   "cell_type": "code",
   "execution_count": 10,
   "metadata": {},
   "outputs": [
    {
     "name": "stdout",
     "output_type": "stream",
     "text": [
      "dict_keys(['logA', 'ns', 'theta_MC_100', 'ombh2', 'omch2', 'tau', 'A_planck', 'calib_100T', 'calib_217T', 'A_cib_217', 'xi_sz_cib', 'A_sz', 'ksz_norm', 'gal545_A_100', 'gal545_A_143', 'gal545_A_143_217', 'gal545_A_217', 'ps_A_100_100', 'ps_A_143_143', 'ps_A_143_217', 'ps_A_217_217', 'galf_TE_A_100', 'galf_TE_A_100_143', 'galf_TE_A_100_217', 'galf_TE_A_143', 'galf_TE_A_143_217', 'galf_TE_A_217'])\n"
     ]
    }
   ],
   "source": [
    "print(mcmc.parameterization.sampled_params().keys())"
   ]
  },
  {
   "cell_type": "code",
   "execution_count": 11,
   "metadata": {},
   "outputs": [
    {
     "ename": "NameError",
     "evalue": "name 'plumb' is not defined",
     "output_type": "error",
     "traceback": [
      "\u001b[0;31m---------------------------------------------------------------------------\u001b[0m",
      "\u001b[0;31mNameError\u001b[0m                                 Traceback (most recent call last)",
      "\u001b[1;32m/rds-d7/user/ano23/hpc-work/cotaat/anesthetic_plotting.ipynb Cell 4'\u001b[0m in \u001b[0;36m<module>\u001b[0;34m\u001b[0m\n\u001b[0;32m----> <a href='vscode-notebook-cell://ssh-remote%2Blogin-cpu.hpc.cam.ac.uk/rds-d7/user/ano23/hpc-work/cotaat/anesthetic_plotting.ipynb#ch0000006vscode-remote?line=0'>1</a>\u001b[0m \u001b[39mprint\u001b[39m(plumb\u001b[39m.\u001b[39mparameterization\u001b[39m.\u001b[39msampled_params()\u001b[39m.\u001b[39mkeys())\n",
      "\u001b[0;31mNameError\u001b[0m: name 'plumb' is not defined"
     ]
    }
   ],
   "source": [
    "print(plumb.parameterization.sampled_params().keys())"
   ]
  },
  {
   "cell_type": "code",
   "execution_count": 8,
   "metadata": {},
   "outputs": [
    {
     "ename": "FileNotFoundError",
     "evalue": "Could not find MCMC sampling chains with root runs/camb_mcmc/",
     "output_type": "error",
     "traceback": [
      "\u001b[0;31m---------------------------------------------------------------------------\u001b[0m",
      "\u001b[0;31mFileNotFoundError\u001b[0m                         Traceback (most recent call last)",
      "\u001b[1;32m/rds-d7/user/ano23/hpc-work/cotaat/anesthetic_plotting.ipynb Cell 4'\u001b[0m in \u001b[0;36m<module>\u001b[0;34m\u001b[0m\n\u001b[1;32m      <a href='vscode-notebook-cell://ssh-remote%2Blogin-cpu.hpc.cam.ac.uk/rds-d7/user/ano23/hpc-work/cotaat/anesthetic_plotting.ipynb#ch0000003vscode-remote?line=0'>1</a>\u001b[0m \u001b[39mfrom\u001b[39;00m \u001b[39manesthetic\u001b[39;00m \u001b[39mimport\u001b[39;00m NestedSamples\n\u001b[0;32m----> <a href='vscode-notebook-cell://ssh-remote%2Blogin-cpu.hpc.cam.ac.uk/rds-d7/user/ano23/hpc-work/cotaat/anesthetic_plotting.ipynb#ch0000003vscode-remote?line=1'>2</a>\u001b[0m samples \u001b[39m=\u001b[39m NestedSamples(root \u001b[39m=\u001b[39;49m \u001b[39m\"\u001b[39;49m\u001b[39mruns/camb_mcmc/\u001b[39;49m\u001b[39m\"\u001b[39;49m)\n",
      "File \u001b[0;32m/rds-d7/user/ano23/hpc-work/cotaat/env_cotaat/lib/python3.8/site-packages/anesthetic/samples.py:475\u001b[0m, in \u001b[0;36mNestedSamples.__init__\u001b[0;34m(self, *args, **kwargs)\u001b[0m\n\u001b[1;32m    <a href='file:///rds-d7/user/ano23/hpc-work/cotaat/env_cotaat/lib/python3.8/site-packages/anesthetic/samples.py?line=472'>473</a>\u001b[0m root \u001b[39m=\u001b[39m kwargs\u001b[39m.\u001b[39mpop(\u001b[39m'\u001b[39m\u001b[39mroot\u001b[39m\u001b[39m'\u001b[39m, \u001b[39mNone\u001b[39;00m)\n\u001b[1;32m    <a href='file:///rds-d7/user/ano23/hpc-work/cotaat/env_cotaat/lib/python3.8/site-packages/anesthetic/samples.py?line=473'>474</a>\u001b[0m \u001b[39mif\u001b[39;00m root \u001b[39mis\u001b[39;00m \u001b[39mnot\u001b[39;00m \u001b[39mNone\u001b[39;00m:\n\u001b[0;32m--> <a href='file:///rds-d7/user/ano23/hpc-work/cotaat/env_cotaat/lib/python3.8/site-packages/anesthetic/samples.py?line=474'>475</a>\u001b[0m     reader \u001b[39m=\u001b[39m SampleReader(root)\n\u001b[1;32m    <a href='file:///rds-d7/user/ano23/hpc-work/cotaat/env_cotaat/lib/python3.8/site-packages/anesthetic/samples.py?line=475'>476</a>\u001b[0m     samples, logL, logL_birth \u001b[39m=\u001b[39m reader\u001b[39m.\u001b[39msamples()\n\u001b[1;32m    <a href='file:///rds-d7/user/ano23/hpc-work/cotaat/env_cotaat/lib/python3.8/site-packages/anesthetic/samples.py?line=476'>477</a>\u001b[0m     params, tex \u001b[39m=\u001b[39m reader\u001b[39m.\u001b[39mparamnames()\n",
      "File \u001b[0;32m/rds-d7/user/ano23/hpc-work/cotaat/env_cotaat/lib/python3.8/site-packages/anesthetic/read/samplereader.py:40\u001b[0m, in \u001b[0;36mSampleReader\u001b[0;34m(root)\u001b[0m\n\u001b[1;32m     <a href='file:///rds-d7/user/ano23/hpc-work/cotaat/env_cotaat/lib/python3.8/site-packages/anesthetic/read/samplereader.py?line=36'>37</a>\u001b[0m     \u001b[39mreturn\u001b[39;00m mp\n\u001b[1;32m     <a href='file:///rds-d7/user/ano23/hpc-work/cotaat/env_cotaat/lib/python3.8/site-packages/anesthetic/read/samplereader.py?line=38'>39</a>\u001b[0m errstr \u001b[39m=\u001b[39m \u001b[39m\"\u001b[39m\u001b[39mCould not find MCMC sampling chains with root \u001b[39m\u001b[39m%s\u001b[39;00m\u001b[39m\"\u001b[39m \u001b[39m%\u001b[39m root\n\u001b[0;32m---> <a href='file:///rds-d7/user/ano23/hpc-work/cotaat/env_cotaat/lib/python3.8/site-packages/anesthetic/read/samplereader.py?line=39'>40</a>\u001b[0m \u001b[39mraise\u001b[39;00m \u001b[39mFileNotFoundError\u001b[39;00m(errstr)\n",
      "\u001b[0;31mFileNotFoundError\u001b[0m: Could not find MCMC sampling chains with root runs/camb_mcmc/"
     ]
    }
   ],
   "source": [
    "from anesthetic import NestedSamples\n",
    "samples = NestedSamples(root = \"runs/camb_mcmc/\")"
   ]
  },
  {
   "cell_type": "code",
   "execution_count": null,
   "metadata": {},
   "outputs": [],
   "source": [
    "axes."
   ]
  },
  {
   "cell_type": "code",
   "execution_count": null,
   "metadata": {},
   "outputs": [],
   "source": []
  }
 ],
 "metadata": {
  "interpreter": {
   "hash": "8d84714ad9928c2a082060421366be0db6e92384babb6ce1063247628ef7fa02"
  },
  "kernelspec": {
   "display_name": "Python 3.8.2 ('env_cotaat': venv)",
   "language": "python",
   "name": "python3"
  },
  "language_info": {
   "codemirror_mode": {
    "name": "ipython",
    "version": 3
   },
   "file_extension": ".py",
   "mimetype": "text/x-python",
   "name": "python",
   "nbconvert_exporter": "python",
   "pygments_lexer": "ipython3",
   "version": "3.8.2"
  },
  "orig_nbformat": 4
 },
 "nbformat": 4,
 "nbformat_minor": 2
}
