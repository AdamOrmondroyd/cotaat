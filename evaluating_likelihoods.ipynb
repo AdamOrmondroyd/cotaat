{
 "cells": [
  {
   "cell_type": "code",
   "execution_count": 1,
   "metadata": {},
   "outputs": [],
   "source": [
    "from cobaya.model import get_model\n",
    "from cobaya.yaml import yaml_load"
   ]
  },
  {
   "cell_type": "code",
   "execution_count": 2,
   "metadata": {},
   "outputs": [
    {
     "name": "stdout",
     "output_type": "stream",
     "text": [
      "[model] *WARNING* Ignored blocks/options: ['sampler']\n",
      "[prior] *WARNING* External prior 'SZ' loaded. Mind that it might not be normalized!\n",
      "[CAMB] Importing *auto-installed* CAMB (but defaulting to *global*).\n",
      "[camb] Initialized!\n",
      "[clik] Importing *auto-installed* clik (but defaulting to *global*).\n",
      "----\n",
      "clik version plc_3.1\n",
      "  gibbs_gauss b13c8fda-1837-41b5-ae2d-78d6b723fcf1\n",
      "[planck_2018_lowl.tt] Initialized!\n",
      "Checking likelihood '/rds-d7/user/ano23/hpc-work/cotaat/packages/data/planck_2018/baseline/plc_3.0/low_l/commander/commander_dx12_v3_2_29.clik' on test data. got -11.6257 expected -11.6257 (diff -1.07424e-09)\n",
      "----\n",
      "[clik] Importing *auto-installed* clik (but defaulting to *global*).\n",
      "Initializing SimAll\n",
      "[planck_2018_lowl.ee] Initialized!\n",
      "----\n",
      "clik version plc_3.1\n",
      "  simall simall_EE_BB_TE\n",
      "Checking likelihood '/rds-d7/user/ano23/hpc-work/cotaat/packages/data/planck_2018/baseline/plc_3.0/low_l/simall/simall_100x143_offlike5_EE_Aplanck_B.clik' on test data. got -197.99 expected -197.99 (diff -4.1778e-08)\n",
      "----\n",
      "[clik] Importing *auto-installed* clik (but defaulting to *global*).\n",
      "----\n",
      "clik version plc_3.1\n",
      "  smica\n",
      "[planck_2018_highl_plik.ttteee] Initialized!\n",
      "Checking likelihood '/rds-d7/user/ano23/hpc-work/cotaat/packages/data/planck_2018/baseline/plc_3.0/hi_l/plik/plik_rd12_HM_v22b_TTTEEE.clik' on test data. got -1172.47 expected -1172.47 (diff -4.34055e-07)\n",
      "----\n",
      "[clik] Importing *auto-installed* clik (but defaulting to *global*).\n",
      "Checking lensing likelihood '/rds-d7/user/ano23/hpc-work/cotaat/packages/data/planck_2018/baseline/plc_3.0/lensing/smicadx12_Dec5_ftl_mv2_ndclpp_p_teb_consext8.clik_lensing' on test data. got -4.42102\n",
      "[planck_2018_lensing.clik] Initialized!\n"
     ]
    }
   ],
   "source": [
    "with open(\"camb_mcmc.yaml\") as f:\n",
    "    model = get_model(yaml_load(f))"
   ]
  },
  {
   "cell_type": "code",
   "execution_count": 3,
   "metadata": {},
   "outputs": [
    {
     "name": "stdout",
     "output_type": "stream",
     "text": [
      "['logA', 'ns', 'theta_MC_100', 'ombh2', 'omch2', 'tau', 'A_planck', 'calib_100T', 'calib_217T', 'A_cib_217', 'xi_sz_cib', 'A_sz', 'ksz_norm', 'gal545_A_100', 'gal545_A_143', 'gal545_A_143_217', 'gal545_A_217', 'ps_A_100_100', 'ps_A_143_143', 'ps_A_143_217', 'ps_A_217_217', 'galf_TE_A_100', 'galf_TE_A_100_143', 'galf_TE_A_100_217', 'galf_TE_A_143', 'galf_TE_A_143_217', 'galf_TE_A_217']\n"
     ]
    }
   ],
   "source": [
    "print(list(model.parameterization.sampled_params()))"
   ]
  },
  {
   "cell_type": "code",
   "execution_count": 11,
   "metadata": {},
   "outputs": [
    {
     "data": {
      "text/plain": [
       "LogPosterior(logpost=-inf, logpriors=[-26.884072225035467, -8.15626912719263], loglikes=array([-inf, -inf, -inf, -inf]), derived=[nan, nan, nan, nan, nan, nan, nan, nan, nan, nan, nan, nan, nan, nan, nan, nan, nan, nan], finite=False)"
      ]
     },
     "execution_count": 11,
     "metadata": {},
     "output_type": "execute_result"
    }
   ],
   "source": [
    "point = dict(zip(model.parameterization.sampled_params(), model.prior.sample(ignore_external=True)[0]))\n",
    "model.logposterior(point)"
   ]
  },
  {
   "cell_type": "code",
   "execution_count": 18,
   "metadata": {},
   "outputs": [
    {
     "name": "stdout",
     "output_type": "stream",
     "text": [
      "27\n",
      "27\n"
     ]
    }
   ],
   "source": [
    "print(len(model.prior.sample(ignore_external=True)[0]))\n",
    "print(len(model.parameterization.sampled_params()))"
   ]
  },
  {
   "cell_type": "code",
   "execution_count": 17,
   "metadata": {},
   "outputs": [
    {
     "data": {
      "text/plain": [
       "array([[2.50136959e+00, 9.44443333e-01, 1.34289763e+00, 4.09486020e-02,\n",
       "        5.90798758e-01, 2.65622707e-01, 9.97545831e-01, 9.99903554e-01,\n",
       "        9.97971141e-01, 1.62219018e+02, 5.36122123e-01, 3.41284808e+00,\n",
       "        5.51251198e+00, 6.66638734e+00, 1.43091375e+01, 2.37643283e+01,\n",
       "        4.77322119e+01, 1.47631985e+02, 2.04176442e+02, 2.23197641e+02,\n",
       "        2.81793553e+01, 9.09794514e-02, 1.32775287e-01, 4.70778284e-01,\n",
       "        1.76932823e-01, 6.42008953e-01, 1.37598726e+00],\n",
       "       [1.87429254e+00, 1.14534231e+00, 3.93944651e+00, 4.73148798e-02,\n",
       "        8.35859029e-01, 6.76976764e-01, 9.98307270e-01, 1.00071517e+00,\n",
       "        9.97853329e-01, 1.45206619e+02, 4.12611971e-01, 2.06902065e+00,\n",
       "        9.77710719e+00, 7.87349507e+00, 1.29913892e+01, 2.86807951e+01,\n",
       "        1.14200336e+02, 3.18310647e+02, 3.38543854e+02, 5.37836189e+01,\n",
       "        1.44533169e+00, 1.35570096e-01, 1.35557202e-01, 4.51242896e-01,\n",
       "        1.94005704e-01, 6.93717050e-01, 1.75434657e+00]])"
      ]
     },
     "execution_count": 17,
     "metadata": {},
     "output_type": "execute_result"
    }
   ],
   "source": [
    "# ohhhh, model.prior.sample returns a n * len(params) array\n",
    "model.prior.sample(n=2, ignore_external=True)"
   ]
  },
  {
   "cell_type": "code",
   "execution_count": 21,
   "metadata": {},
   "outputs": [
    {
     "name": "stdout",
     "output_type": "stream",
     "text": [
      "[clik] Importing *auto-installed* clik (but defaulting to *global*).\n",
      "----\n",
      "clik version plc_3.1\n",
      "  smica\n",
      "Checking likelihood '/rds-d7/user/ano23/hpc-work/cotaat/packages/data/planck_2018/baseline/plc_3.0/hi_l/plik/plik_rd12_HM_v22b_TTTEEE.clik' on test data. got -1172.47 expected -1172.47 (diff -4.34055e-07)\n",
      "----\n",
      "[planck_2018_highl_plik.ttteee] Initialized!\n",
      "planck_2018_highl_plik.TTTEEE\n"
     ]
    }
   ],
   "source": [
    "from cobaya.likelihoods.planck_2018_highl_plik.TTTEEE import TTTEEE\n",
    "print(TTTEEE(point))"
   ]
  },
  {
   "cell_type": "code",
   "execution_count": 24,
   "metadata": {},
   "outputs": [],
   "source": [
    "import cobaya\n"
   ]
  },
  {
   "cell_type": "code",
   "execution_count": 29,
   "metadata": {},
   "outputs": [
    {
     "name": "stdout",
     "output_type": "stream",
     "text": [
      "[output] Output to be read-from/written-into folder 'runs/no_likelihood', with prefix 'no_likelihood'\n",
      "[output] Found existing info files with the requested output prefix: 'runs/no_likelihood/no_likelihood'\n",
      "[output] Will delete previous products ('force' was requested).\n"
     ]
    },
    {
     "ename": "AttributeError",
     "evalue": "'NoneType' object has no attribute 'values'",
     "output_type": "error",
     "traceback": [
      "\u001b[0;31m---------------------------------------------------------------------------\u001b[0m",
      "\u001b[0;31mAttributeError\u001b[0m                            Traceback (most recent call last)",
      "\u001b[1;32m/rds-d7/user/ano23/hpc-work/cotaat/evaluating_likelihoods.ipynb Cell 9'\u001b[0m in \u001b[0;36m<module>\u001b[0;34m\u001b[0m\n\u001b[1;32m      <a href='vscode-notebook-cell://ssh-remote%2Blogin-cpu.hpc.cam.ac.uk/rds-d7/user/ano23/hpc-work/cotaat/evaluating_likelihoods.ipynb#ch0000010vscode-remote?line=0'>1</a>\u001b[0m resume \u001b[39m=\u001b[39m \u001b[39mFalse\u001b[39;00m\n\u001b[1;32m      <a href='vscode-notebook-cell://ssh-remote%2Blogin-cpu.hpc.cam.ac.uk/rds-d7/user/ano23/hpc-work/cotaat/evaluating_likelihoods.ipynb#ch0000010vscode-remote?line=1'>2</a>\u001b[0m name \u001b[39m=\u001b[39m \u001b[39m\"\u001b[39m\u001b[39mno_likelihood\u001b[39m\u001b[39m\"\u001b[39m\n\u001b[0;32m----> <a href='vscode-notebook-cell://ssh-remote%2Blogin-cpu.hpc.cam.ac.uk/rds-d7/user/ano23/hpc-work/cotaat/evaluating_likelihoods.ipynb#ch0000010vscode-remote?line=2'>3</a>\u001b[0m cobaya\u001b[39m.\u001b[39;49mrun(\n\u001b[1;32m      <a href='vscode-notebook-cell://ssh-remote%2Blogin-cpu.hpc.cam.ac.uk/rds-d7/user/ano23/hpc-work/cotaat/evaluating_likelihoods.ipynb#ch0000010vscode-remote?line=3'>4</a>\u001b[0m     \u001b[39mf\u001b[39;49m\u001b[39m\"\u001b[39;49m\u001b[39m{\u001b[39;49;00mname\u001b[39m}\u001b[39;49;00m\u001b[39m.yaml\u001b[39;49m\u001b[39m\"\u001b[39;49m,\n\u001b[1;32m      <a href='vscode-notebook-cell://ssh-remote%2Blogin-cpu.hpc.cam.ac.uk/rds-d7/user/ano23/hpc-work/cotaat/evaluating_likelihoods.ipynb#ch0000010vscode-remote?line=4'>5</a>\u001b[0m     \u001b[39m\"\u001b[39;49m\u001b[39mpackages\u001b[39;49m\u001b[39m\"\u001b[39;49m,\n\u001b[1;32m      <a href='vscode-notebook-cell://ssh-remote%2Blogin-cpu.hpc.cam.ac.uk/rds-d7/user/ano23/hpc-work/cotaat/evaluating_likelihoods.ipynb#ch0000010vscode-remote?line=5'>6</a>\u001b[0m     \u001b[39mf\u001b[39;49m\u001b[39m\"\u001b[39;49m\u001b[39mruns/\u001b[39;49m\u001b[39m{\u001b[39;49;00mname\u001b[39m}\u001b[39;49;00m\u001b[39m/\u001b[39;49m\u001b[39m{\u001b[39;49;00mname\u001b[39m}\u001b[39;49;00m\u001b[39m\"\u001b[39;49m,\n\u001b[1;32m      <a href='vscode-notebook-cell://ssh-remote%2Blogin-cpu.hpc.cam.ac.uk/rds-d7/user/ano23/hpc-work/cotaat/evaluating_likelihoods.ipynb#ch0000010vscode-remote?line=6'>7</a>\u001b[0m     resume\u001b[39m=\u001b[39;49mresume,\n\u001b[1;32m      <a href='vscode-notebook-cell://ssh-remote%2Blogin-cpu.hpc.cam.ac.uk/rds-d7/user/ano23/hpc-work/cotaat/evaluating_likelihoods.ipynb#ch0000010vscode-remote?line=7'>8</a>\u001b[0m     force\u001b[39m=\u001b[39;49m\u001b[39mnot\u001b[39;49;00m resume,\n\u001b[1;32m      <a href='vscode-notebook-cell://ssh-remote%2Blogin-cpu.hpc.cam.ac.uk/rds-d7/user/ano23/hpc-work/cotaat/evaluating_likelihoods.ipynb#ch0000010vscode-remote?line=8'>9</a>\u001b[0m     test\u001b[39m=\u001b[39;49m\u001b[39mFalse\u001b[39;49;00m,\n\u001b[1;32m     <a href='vscode-notebook-cell://ssh-remote%2Blogin-cpu.hpc.cam.ac.uk/rds-d7/user/ano23/hpc-work/cotaat/evaluating_likelihoods.ipynb#ch0000010vscode-remote?line=9'>10</a>\u001b[0m     debug\u001b[39m=\u001b[39;49m\u001b[39mFalse\u001b[39;49;00m,\n\u001b[1;32m     <a href='vscode-notebook-cell://ssh-remote%2Blogin-cpu.hpc.cam.ac.uk/rds-d7/user/ano23/hpc-work/cotaat/evaluating_likelihoods.ipynb#ch0000010vscode-remote?line=10'>11</a>\u001b[0m )\n",
      "File \u001b[0;32m/rds-d7/user/ano23/hpc-work/pofk/env_pofk/lib/python3.8/site-packages/cobaya/run.py:115\u001b[0m, in \u001b[0;36mrun\u001b[0;34m(info_or_yaml_or_file, packages_path, output, debug, stop_at_error, resume, force, no_mpi, test, override)\u001b[0m\n\u001b[1;32m    <a href='file:///rds-d7/user/ano23/hpc-work/pofk/env_pofk/lib/python3.8/site-packages/cobaya/run.py?line=109'>110</a>\u001b[0m         logger_run\u001b[39m.\u001b[39minfo(\n\u001b[1;32m    <a href='file:///rds-d7/user/ano23/hpc-work/pofk/env_pofk/lib/python3.8/site-packages/cobaya/run.py?line=110'>111</a>\u001b[0m             \u001b[39m\"\u001b[39m\u001b[39mInput info updated with defaults (dumped to YAML):\u001b[39m\u001b[39m\\n\u001b[39;00m\u001b[39m%s\u001b[39;00m\u001b[39m\"\u001b[39m,\n\u001b[1;32m    <a href='file:///rds-d7/user/ano23/hpc-work/pofk/env_pofk/lib/python3.8/site-packages/cobaya/run.py?line=111'>112</a>\u001b[0m             yaml_dump(sort_cosmetic(updated_info)))\n\u001b[1;32m    <a href='file:///rds-d7/user/ano23/hpc-work/pofk/env_pofk/lib/python3.8/site-packages/cobaya/run.py?line=112'>113</a>\u001b[0m \u001b[39m# 3. If output requested, check compatibility if existing one, and dump.\u001b[39;00m\n\u001b[1;32m    <a href='file:///rds-d7/user/ano23/hpc-work/pofk/env_pofk/lib/python3.8/site-packages/cobaya/run.py?line=113'>114</a>\u001b[0m \u001b[39m# 3.1 First: model only\u001b[39;00m\n\u001b[0;32m--> <a href='file:///rds-d7/user/ano23/hpc-work/pofk/env_pofk/lib/python3.8/site-packages/cobaya/run.py?line=114'>115</a>\u001b[0m out\u001b[39m.\u001b[39;49mcheck_and_dump_info(info, updated_info, cache_old\u001b[39m=\u001b[39;49m\u001b[39mTrue\u001b[39;49;00m,\n\u001b[1;32m    <a href='file:///rds-d7/user/ano23/hpc-work/pofk/env_pofk/lib/python3.8/site-packages/cobaya/run.py?line=115'>116</a>\u001b[0m                         ignore_blocks\u001b[39m=\u001b[39;49m[\u001b[39m\"\u001b[39;49m\u001b[39msampler\u001b[39;49m\u001b[39m\"\u001b[39;49m])\n\u001b[1;32m    <a href='file:///rds-d7/user/ano23/hpc-work/pofk/env_pofk/lib/python3.8/site-packages/cobaya/run.py?line=116'>117</a>\u001b[0m \u001b[39m# 3.2 Then sampler -- 1st get the last sampler mentioned in the updated.yaml\u001b[39;00m\n\u001b[1;32m    <a href='file:///rds-d7/user/ano23/hpc-work/pofk/env_pofk/lib/python3.8/site-packages/cobaya/run.py?line=117'>118</a>\u001b[0m \u001b[39m# TODO: ideally, using Minimizer would *append* to the sampler block.\u001b[39;00m\n\u001b[1;32m    <a href='file:///rds-d7/user/ano23/hpc-work/pofk/env_pofk/lib/python3.8/site-packages/cobaya/run.py?line=118'>119</a>\u001b[0m \u001b[39m#       Some code already in place, but not possible at the moment.\u001b[39;00m\n\u001b[1;32m    <a href='file:///rds-d7/user/ano23/hpc-work/pofk/env_pofk/lib/python3.8/site-packages/cobaya/run.py?line=119'>120</a>\u001b[0m \u001b[39mtry\u001b[39;00m:\n",
      "File \u001b[0;32m/rds-d7/user/ano23/hpc-work/pofk/env_pofk/lib/python3.8/site-packages/cobaya/mpi.py:274\u001b[0m, in \u001b[0;36mset_from_root.<locals>.set_method.<locals>.wrapper\u001b[0;34m(self, *args, **kwargs)\u001b[0m\n\u001b[1;32m    <a href='file:///rds-d7/user/ano23/hpc-work/pofk/env_pofk/lib/python3.8/site-packages/cobaya/mpi.py?line=271'>272</a>\u001b[0m \u001b[39mif\u001b[39;00m is_main_process():\n\u001b[1;32m    <a href='file:///rds-d7/user/ano23/hpc-work/pofk/env_pofk/lib/python3.8/site-packages/cobaya/mpi.py?line=272'>273</a>\u001b[0m     \u001b[39mtry\u001b[39;00m:\n\u001b[0;32m--> <a href='file:///rds-d7/user/ano23/hpc-work/pofk/env_pofk/lib/python3.8/site-packages/cobaya/mpi.py?line=273'>274</a>\u001b[0m         result \u001b[39m=\u001b[39m method(\u001b[39mself\u001b[39;49m, \u001b[39m*\u001b[39;49margs, \u001b[39m*\u001b[39;49m\u001b[39m*\u001b[39;49mkwargs)\n\u001b[1;32m    <a href='file:///rds-d7/user/ano23/hpc-work/pofk/env_pofk/lib/python3.8/site-packages/cobaya/mpi.py?line=274'>275</a>\u001b[0m     \u001b[39mexcept\u001b[39;00m \u001b[39mException\u001b[39;00m:\n\u001b[1;32m    <a href='file:///rds-d7/user/ano23/hpc-work/pofk/env_pofk/lib/python3.8/site-packages/cobaya/mpi.py?line=275'>276</a>\u001b[0m         share_mpi()\n",
      "File \u001b[0;32m/rds-d7/user/ano23/hpc-work/pofk/env_pofk/lib/python3.8/site-packages/cobaya/output.py:310\u001b[0m, in \u001b[0;36mOutput.check_and_dump_info\u001b[0;34m(self, input_info, updated_info, check_compatible, cache_old, use_cache_old, ignore_blocks)\u001b[0m\n\u001b[1;32m    <a href='file:///rds-d7/user/ano23/hpc-work/pofk/env_pofk/lib/python3.8/site-packages/cobaya/output.py?line=307'>308</a>\u001b[0m updated_info_trimmed \u001b[39m=\u001b[39m deepcopy_where_possible(updated_info)\n\u001b[1;32m    <a href='file:///rds-d7/user/ano23/hpc-work/pofk/env_pofk/lib/python3.8/site-packages/cobaya/output.py?line=308'>309</a>\u001b[0m updated_info_trimmed[\u001b[39m\"\u001b[39m\u001b[39mversion\u001b[39m\u001b[39m\"\u001b[39m] \u001b[39m=\u001b[39m get_version()\n\u001b[0;32m--> <a href='file:///rds-d7/user/ano23/hpc-work/pofk/env_pofk/lib/python3.8/site-packages/cobaya/output.py?line=309'>310</a>\u001b[0m \u001b[39mfor\u001b[39;00m like_info \u001b[39min\u001b[39;00m updated_info_trimmed\u001b[39m.\u001b[39;49mget(\u001b[39m\"\u001b[39;49m\u001b[39mlikelihood\u001b[39;49m\u001b[39m\"\u001b[39;49m, {})\u001b[39m.\u001b[39;49mvalues():\n\u001b[1;32m    <a href='file:///rds-d7/user/ano23/hpc-work/pofk/env_pofk/lib/python3.8/site-packages/cobaya/output.py?line=310'>311</a>\u001b[0m     (like_info \u001b[39mor\u001b[39;00m {})\u001b[39m.\u001b[39mpop(\u001b[39m\"\u001b[39m\u001b[39mparams\u001b[39m\u001b[39m\"\u001b[39m, \u001b[39mNone\u001b[39;00m)\n\u001b[1;32m    <a href='file:///rds-d7/user/ano23/hpc-work/pofk/env_pofk/lib/python3.8/site-packages/cobaya/output.py?line=311'>312</a>\u001b[0m \u001b[39mif\u001b[39;00m check_compatible:\n\u001b[1;32m    <a href='file:///rds-d7/user/ano23/hpc-work/pofk/env_pofk/lib/python3.8/site-packages/cobaya/output.py?line=312'>313</a>\u001b[0m     \u001b[39m# We will test the old info against the dumped+loaded new info.\u001b[39;00m\n\u001b[1;32m    <a href='file:///rds-d7/user/ano23/hpc-work/pofk/env_pofk/lib/python3.8/site-packages/cobaya/output.py?line=313'>314</a>\u001b[0m     \u001b[39m# This is because we can't actually check if python objects do change\u001b[39;00m\n",
      "\u001b[0;31mAttributeError\u001b[0m: 'NoneType' object has no attribute 'values'"
     ]
    }
   ],
   "source": [
    "resume = False\n",
    "name = \"no_likelihood\"\n",
    "cobaya.run(\n",
    "    f\"{name}.yaml\",\n",
    "    \"packages\",\n",
    "    f\"runs/{name}/{name}\",\n",
    "    resume=resume,\n",
    "    force=not resume,\n",
    "    test=False,\n",
    "    debug=False,\n",
    ")"
   ]
  },
  {
   "cell_type": "code",
   "execution_count": null,
   "metadata": {},
   "outputs": [],
   "source": []
  }
 ],
 "metadata": {
  "interpreter": {
   "hash": "c1c4b1c4a3170e48cee0ba5d5934b5b687a09458e8f82788ecf08772670263fc"
  },
  "kernelspec": {
   "display_name": "Python 3.8.2 ('env_pofk': venv)",
   "language": "python",
   "name": "python3"
  },
  "language_info": {
   "codemirror_mode": {
    "name": "ipython",
    "version": 3
   },
   "file_extension": ".py",
   "mimetype": "text/x-python",
   "name": "python",
   "nbconvert_exporter": "python",
   "pygments_lexer": "ipython3",
   "version": "3.8.2"
  },
  "orig_nbformat": 4
 },
 "nbformat": 4,
 "nbformat_minor": 2
}
